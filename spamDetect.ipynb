{
 "cells": [
  {
   "cell_type": "code",
   "execution_count": 1,
   "id": "e2821987",
   "metadata": {},
   "outputs": [],
   "source": [
    "import pandas as pd\n",
    "from sklearn.model_selection import train_test_split\n",
    "from sklearn.ensemble import RandomForestClassifier\n",
    "from sklearn.linear_model import LogisticRegression\n",
    "from sklearn.metrics import recall_score, precision_score, f1_score\n",
    "from sklearn.feature_extraction.text import TfidfVectorizer"
   ]
  },
  {
   "cell_type": "code",
   "execution_count": 2,
   "id": "e5398bef",
   "metadata": {},
   "outputs": [
    {
     "data": {
      "application/vnd.microsoft.datawrangler.viewer.v0+json": {
       "columns": [
        {
         "name": "index",
         "rawType": "int64",
         "type": "integer"
        },
        {
         "name": "v1",
         "rawType": "object",
         "type": "string"
        },
        {
         "name": "v2",
         "rawType": "object",
         "type": "string"
        },
        {
         "name": "Unnamed: 2",
         "rawType": "object",
         "type": "unknown"
        },
        {
         "name": "Unnamed: 3",
         "rawType": "object",
         "type": "unknown"
        },
        {
         "name": "Unnamed: 4",
         "rawType": "object",
         "type": "unknown"
        }
       ],
       "ref": "b93f5867-b2af-4380-b670-970c471e67a4",
       "rows": [
        [
         "2886",
         "ham",
         "K I'll take care of it",
         null,
         null,
         null
        ],
        [
         "2848",
         "spam",
         "YOUR CHANCE TO BE ON A REALITY FANTASY SHOW call now = 08707509020 Just 20p per min NTT Ltd, PO Box 1327 Croydon CR9 5WB 0870 is a national = rate call",
         null,
         null,
         null
        ],
        [
         "2803",
         "ham",
         "Lil fever:) now fine:)",
         null,
         null,
         null
        ],
        [
         "3153",
         "spam",
         "Not heard from U4 a while. Call 4 rude chat private line 01223585334 to cum. Wan 2C pics of me gettin shagged then text PIX to 8552. 2End send STOP 8552 SAM xxx",
         null,
         null,
         null
        ],
        [
         "5380",
         "ham",
         "Its sunny in california. The weather's just cool",
         null,
         null,
         null
        ]
       ],
       "shape": {
        "columns": 5,
        "rows": 5
       }
      },
      "text/html": [
       "<div>\n",
       "<style scoped>\n",
       "    .dataframe tbody tr th:only-of-type {\n",
       "        vertical-align: middle;\n",
       "    }\n",
       "\n",
       "    .dataframe tbody tr th {\n",
       "        vertical-align: top;\n",
       "    }\n",
       "\n",
       "    .dataframe thead th {\n",
       "        text-align: right;\n",
       "    }\n",
       "</style>\n",
       "<table border=\"1\" class=\"dataframe\">\n",
       "  <thead>\n",
       "    <tr style=\"text-align: right;\">\n",
       "      <th></th>\n",
       "      <th>v1</th>\n",
       "      <th>v2</th>\n",
       "      <th>Unnamed: 2</th>\n",
       "      <th>Unnamed: 3</th>\n",
       "      <th>Unnamed: 4</th>\n",
       "    </tr>\n",
       "  </thead>\n",
       "  <tbody>\n",
       "    <tr>\n",
       "      <th>2886</th>\n",
       "      <td>ham</td>\n",
       "      <td>K I'll take care of it</td>\n",
       "      <td>NaN</td>\n",
       "      <td>NaN</td>\n",
       "      <td>NaN</td>\n",
       "    </tr>\n",
       "    <tr>\n",
       "      <th>2848</th>\n",
       "      <td>spam</td>\n",
       "      <td>YOUR CHANCE TO BE ON A REALITY FANTASY SHOW ca...</td>\n",
       "      <td>NaN</td>\n",
       "      <td>NaN</td>\n",
       "      <td>NaN</td>\n",
       "    </tr>\n",
       "    <tr>\n",
       "      <th>2803</th>\n",
       "      <td>ham</td>\n",
       "      <td>Lil fever:) now fine:)</td>\n",
       "      <td>NaN</td>\n",
       "      <td>NaN</td>\n",
       "      <td>NaN</td>\n",
       "    </tr>\n",
       "    <tr>\n",
       "      <th>3153</th>\n",
       "      <td>spam</td>\n",
       "      <td>Not heard from U4 a while. Call 4 rude chat pr...</td>\n",
       "      <td>NaN</td>\n",
       "      <td>NaN</td>\n",
       "      <td>NaN</td>\n",
       "    </tr>\n",
       "    <tr>\n",
       "      <th>5380</th>\n",
       "      <td>ham</td>\n",
       "      <td>Its sunny in california. The weather's just cool</td>\n",
       "      <td>NaN</td>\n",
       "      <td>NaN</td>\n",
       "      <td>NaN</td>\n",
       "    </tr>\n",
       "  </tbody>\n",
       "</table>\n",
       "</div>"
      ],
      "text/plain": [
       "        v1                                                 v2 Unnamed: 2  \\\n",
       "2886   ham                             K I'll take care of it        NaN   \n",
       "2848  spam  YOUR CHANCE TO BE ON A REALITY FANTASY SHOW ca...        NaN   \n",
       "2803   ham                             Lil fever:) now fine:)        NaN   \n",
       "3153  spam  Not heard from U4 a while. Call 4 rude chat pr...        NaN   \n",
       "5380   ham   Its sunny in california. The weather's just cool        NaN   \n",
       "\n",
       "     Unnamed: 3 Unnamed: 4  \n",
       "2886        NaN        NaN  \n",
       "2848        NaN        NaN  \n",
       "2803        NaN        NaN  \n",
       "3153        NaN        NaN  \n",
       "5380        NaN        NaN  "
      ]
     },
     "execution_count": 2,
     "metadata": {},
     "output_type": "execute_result"
    }
   ],
   "source": [
    "df = pd.read_csv('spam.csv', encoding='latin-1')\n",
    "df.sample(5)"
   ]
  },
  {
   "cell_type": "code",
   "execution_count": 3,
   "id": "0f36ebc3",
   "metadata": {},
   "outputs": [
    {
     "data": {
      "application/vnd.microsoft.datawrangler.viewer.v0+json": {
       "columns": [
        {
         "name": "index",
         "rawType": "int64",
         "type": "integer"
        },
        {
         "name": "label",
         "rawType": "int64",
         "type": "integer"
        },
        {
         "name": "message",
         "rawType": "object",
         "type": "string"
        }
       ],
       "ref": "e3f3039d-9049-4e6a-8aba-71f940003103",
       "rows": [
        [
         "4615",
         "0",
         "ÌÏ called dad oredi..."
        ],
        [
         "3922",
         "0",
         "Okay lor... Will they still let us go a not ah? Coz they will not know until later. We drop our cards into the box right?"
        ],
        [
         "5527",
         "0",
         "Total disappointment, when I texted you was the craziest shit got :("
        ],
        [
         "1844",
         "0",
         "Da is good good player.why he is unsold."
        ],
        [
         "2125",
         "0",
         "Sorry im getting up now, feel really bad- totally rejected that kinda me thing."
        ]
       ],
       "shape": {
        "columns": 2,
        "rows": 5
       }
      },
      "text/html": [
       "<div>\n",
       "<style scoped>\n",
       "    .dataframe tbody tr th:only-of-type {\n",
       "        vertical-align: middle;\n",
       "    }\n",
       "\n",
       "    .dataframe tbody tr th {\n",
       "        vertical-align: top;\n",
       "    }\n",
       "\n",
       "    .dataframe thead th {\n",
       "        text-align: right;\n",
       "    }\n",
       "</style>\n",
       "<table border=\"1\" class=\"dataframe\">\n",
       "  <thead>\n",
       "    <tr style=\"text-align: right;\">\n",
       "      <th></th>\n",
       "      <th>label</th>\n",
       "      <th>message</th>\n",
       "    </tr>\n",
       "  </thead>\n",
       "  <tbody>\n",
       "    <tr>\n",
       "      <th>4615</th>\n",
       "      <td>0</td>\n",
       "      <td>ÌÏ called dad oredi...</td>\n",
       "    </tr>\n",
       "    <tr>\n",
       "      <th>3922</th>\n",
       "      <td>0</td>\n",
       "      <td>Okay lor... Will they still let us go a not ah...</td>\n",
       "    </tr>\n",
       "    <tr>\n",
       "      <th>5527</th>\n",
       "      <td>0</td>\n",
       "      <td>Total disappointment, when I texted you was th...</td>\n",
       "    </tr>\n",
       "    <tr>\n",
       "      <th>1844</th>\n",
       "      <td>0</td>\n",
       "      <td>Da is good good player.why he is unsold.</td>\n",
       "    </tr>\n",
       "    <tr>\n",
       "      <th>2125</th>\n",
       "      <td>0</td>\n",
       "      <td>Sorry im getting up now, feel really bad- tota...</td>\n",
       "    </tr>\n",
       "  </tbody>\n",
       "</table>\n",
       "</div>"
      ],
      "text/plain": [
       "      label                                            message\n",
       "4615      0                             ÌÏ called dad oredi...\n",
       "3922      0  Okay lor... Will they still let us go a not ah...\n",
       "5527      0  Total disappointment, when I texted you was th...\n",
       "1844      0           Da is good good player.why he is unsold.\n",
       "2125      0  Sorry im getting up now, feel really bad- tota..."
      ]
     },
     "execution_count": 3,
     "metadata": {},
     "output_type": "execute_result"
    }
   ],
   "source": [
    "column=[\"Unnamed: 2\",\"Unnamed: 3\",\"Unnamed: 4\"]\n",
    "df.drop(columns=column,inplace=True)\n",
    "\n",
    "df.rename(columns={'v1': 'label', 'v2': 'message'}, inplace=True)\n",
    "\n",
    "df['label'] = df['label'].map({'ham': 0, 'spam': 1})\n",
    "\n",
    "df.sample(5)"
   ]
  },
  {
   "cell_type": "code",
   "execution_count": 4,
   "id": "1c055be6",
   "metadata": {},
   "outputs": [
    {
     "data": {
      "application/vnd.microsoft.datawrangler.viewer.v0+json": {
       "columns": [
        {
         "name": "label",
         "rawType": "int64",
         "type": "integer"
        },
        {
         "name": "count",
         "rawType": "int64",
         "type": "integer"
        }
       ],
       "ref": "7cb71c92-4f1b-4373-982f-e4b2899d5960",
       "rows": [
        [
         "0",
         "4825"
        ],
        [
         "1",
         "747"
        ]
       ],
       "shape": {
        "columns": 1,
        "rows": 2
       }
      },
      "text/plain": [
       "label\n",
       "0    4825\n",
       "1     747\n",
       "Name: count, dtype: int64"
      ]
     },
     "execution_count": 4,
     "metadata": {},
     "output_type": "execute_result"
    }
   ],
   "source": [
    "df['label'].value_counts()"
   ]
  },
  {
   "cell_type": "code",
   "execution_count": 5,
   "id": "201d3d65",
   "metadata": {},
   "outputs": [],
   "source": [
    "# TF-IDF Vectorization\n",
    "vectorizer = TfidfVectorizer()\n",
    "X = vectorizer.fit_transform(df[\"message\"])\n",
    "y = df[\"label\"]"
   ]
  },
  {
   "cell_type": "code",
   "execution_count": 6,
   "id": "649ec5d7",
   "metadata": {},
   "outputs": [],
   "source": [
    "X_train, X_test, y_train, y_test = train_test_split(X,y, test_size=0.2, random_state=42)"
   ]
  },
  {
   "cell_type": "code",
   "execution_count": 17,
   "metadata": {},
   "outputs": [
    {
     "name": "stdout",
     "output_type": "stream",
     "text": [
      "Original dataset shape: label\n",
      "0    3860\n",
      "1     597\n",
      "Name: count, dtype: int64\n",
      "Resampled dataset shape: label\n",
      "0    597\n",
      "1    597\n",
      "Name: count, dtype: int64\n"
     ]
    }
   ],
   "source": [
    "from imblearn.under_sampling import RandomUnderSampler\n",
    "# Apply Random Under-Sampling\n",
    "undersampler = RandomUnderSampler(random_state=42)\n",
    "X_train_res, y_train_res = undersampler.fit_resample(X_train, y_train)\n",
    "\n",
    "print(\"Original dataset shape:\", y_train.value_counts())\n",
    "print(\"Resampled dataset shape:\", y_train_res.value_counts())\n"
   ]
  },
  {
   "cell_type": "code",
   "execution_count": 8,
   "metadata": {},
   "outputs": [
    {
     "name": "stdout",
     "output_type": "stream",
     "text": [
      "[0 0 1 ... 0 0 1]\n",
      "Recall: 0.8933333333333333\n"
     ]
    }
   ],
   "source": [
    "model = LogisticRegression(class_weight='balanced')\n",
    "model.fit(X_train, y_train)\n",
    "y_pred = model.predict(X_test)\n",
    "print(y_pred)\n",
    "print(\"Recall:\", recall_score(y_test, y_pred))"
   ]
  },
  {
   "cell_type": "code",
   "execution_count": null,
   "id": "7c4e8612",
   "metadata": {},
   "outputs": [
    {
     "data": {
      "text/plain": [
       "'# Allow user to input their own email content\\nnew_mail = [input(\"Enter your email content: \")]  # Wrap input in a list to make it a single document\\n\\n# Transform the input email content using the same vectorizer\\nnew_data_features = vectorizer.transform(new_mail)\\n\\n# Predict if the email is spam or not\\nprediction = model.predict(new_data_features)\\nprint(\"Prediction:\", prediction)\\n# Print the result\\nprint(\"Spam\" if prediction[0] == 1 else \"Not Spam\")\\n'"
      ]
     },
     "execution_count": 18,
     "metadata": {},
     "output_type": "execute_result"
    }
   ],
   "source": [
    "# Allow user to input their own email content\n",
    "new_mail = [input(\"Enter your email content: \")]  # Wrap input in a list to make it a single document\n",
    "\n",
    "# Transform the input email content using the same vectorizer\n",
    "new_data_features = vectorizer.transform(new_mail)\n",
    "\n",
    "# Predict if the email is spam or not\n",
    "prediction = model.predict(new_data_features)\n",
    "print(\"Prediction:\", prediction)\n",
    "# Print the result\n",
    "print(\"Spam\" if prediction[0] == 1 else \"Not Spam\")\n"
   ]
  },
  {
   "cell_type": "code",
   "execution_count": 21,
   "id": "3d0dc559",
   "metadata": {},
   "outputs": [
    {
     "data": {
      "text/plain": [
       "['vectorizer.pkl']"
      ]
     },
     "execution_count": 21,
     "metadata": {},
     "output_type": "execute_result"
    }
   ],
   "source": [
    "import joblib\n",
    "\n",
    "# Assuming your model and vectorizer are named clf and tfidf\n",
    "joblib.dump(model, 'spam_model.pkl')\n",
    "joblib.dump(vectorizer, 'vectorizer.pkl')\n"
   ]
  }
 ],
 "metadata": {
  "kernelspec": {
   "display_name": "Python 3",
   "language": "python",
   "name": "python3"
  },
  "language_info": {
   "codemirror_mode": {
    "name": "ipython",
    "version": 3
   },
   "file_extension": ".py",
   "mimetype": "text/x-python",
   "name": "python",
   "nbconvert_exporter": "python",
   "pygments_lexer": "ipython3",
   "version": "3.13.5"
  }
 },
 "nbformat": 4,
 "nbformat_minor": 5
}
